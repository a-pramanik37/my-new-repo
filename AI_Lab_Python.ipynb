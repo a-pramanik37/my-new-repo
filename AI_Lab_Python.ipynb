{
  "nbformat": 4,
  "nbformat_minor": 0,
  "metadata": {
    "colab": {
      "name": "AI_Lab_Python.ipynb",
      "provenance": [],
      "authorship_tag": "ABX9TyM+moTtNX4soSZf1w6pugJY",
      "include_colab_link": true
    },
    "kernelspec": {
      "name": "python3",
      "display_name": "Python 3"
    }
  },
  "cells": [
    {
      "cell_type": "markdown",
      "metadata": {
        "id": "view-in-github",
        "colab_type": "text"
      },
      "source": [
        "<a href=\"https://colab.research.google.com/github/a-pramanik37/my-new-repo/blob/main/AI_Lab_Python.ipynb\" target=\"_parent\"><img src=\"https://colab.research.google.com/assets/colab-badge.svg\" alt=\"Open In Colab\"/></a>"
      ]
    },
    {
      "cell_type": "code",
      "metadata": {
        "colab": {
          "base_uri": "https://localhost:8080/"
        },
        "id": "nkgL-NJqy2Gq",
        "outputId": "09d4d950-1ad9-4bda-d1c5-14cb44a4a0a4"
      },
      "source": [
        "print(\"hello world\")"
      ],
      "execution_count": null,
      "outputs": [
        {
          "output_type": "stream",
          "text": [
            "hello world\n"
          ],
          "name": "stdout"
        }
      ]
    },
    {
      "cell_type": "markdown",
      "metadata": {
        "id": "lBeD796g0eP1"
      },
      "source": [
        "#**Data types in python**"
      ]
    },
    {
      "cell_type": "code",
      "metadata": {
        "colab": {
          "base_uri": "https://localhost:8080/"
        },
        "id": "KsIjKpTn0hBK",
        "outputId": "8e0c1831-796e-47e7-dec5-f9067a054db6"
      },
      "source": [
        "n=6\r\n",
        "type(n)"
      ],
      "execution_count": null,
      "outputs": [
        {
          "output_type": "execute_result",
          "data": {
            "text/plain": [
              "int"
            ]
          },
          "metadata": {
            "tags": []
          },
          "execution_count": 3
        }
      ]
    },
    {
      "cell_type": "code",
      "metadata": {
        "colab": {
          "base_uri": "https://localhost:8080/"
        },
        "id": "ZRnkJYK60mIK",
        "outputId": "91d5ccdd-0028-4d36-e8bb-0f8c03c28a19"
      },
      "source": [
        "f = 5.43\r\n",
        "type(f)"
      ],
      "execution_count": null,
      "outputs": [
        {
          "output_type": "execute_result",
          "data": {
            "text/plain": [
              "float"
            ]
          },
          "metadata": {
            "tags": []
          },
          "execution_count": 5
        }
      ]
    },
    {
      "cell_type": "markdown",
      "metadata": {
        "id": "Ba2I5Rr71BMd"
      },
      "source": [
        "#**Collections in python**"
      ]
    },
    {
      "cell_type": "code",
      "metadata": {
        "colab": {
          "base_uri": "https://localhost:8080/"
        },
        "id": "raOI56921FKg",
        "outputId": "865c2c68-4f8d-4f09-c9ac-7d5ff4792694"
      },
      "source": [
        "#list\r\n",
        "l = [4, 6, 10, 3]\r\n",
        "print(l)"
      ],
      "execution_count": null,
      "outputs": [
        {
          "output_type": "stream",
          "text": [
            "[4, 6, 10, 3]\n"
          ],
          "name": "stdout"
        }
      ]
    },
    {
      "cell_type": "code",
      "metadata": {
        "colab": {
          "base_uri": "https://localhost:8080/"
        },
        "id": "jMYpHuD51daC",
        "outputId": "983fe3bc-77f8-4728-9df7-ffe26501c1f9"
      },
      "source": [
        "#dictionary\r\n",
        "d = {\"rahim\" : 500, \"karim\":200}\r\n",
        "print(d)"
      ],
      "execution_count": null,
      "outputs": [
        {
          "output_type": "stream",
          "text": [
            "{'rahim': 500, 'karim': 200}\n"
          ],
          "name": "stdout"
        }
      ]
    },
    {
      "cell_type": "markdown",
      "metadata": {
        "id": "bU1N7mb12BTj"
      },
      "source": [
        "#**printing values in python**"
      ]
    },
    {
      "cell_type": "code",
      "metadata": {
        "colab": {
          "base_uri": "https://localhost:8080/"
        },
        "id": "DVBXTW3y2ErW",
        "outputId": "4adac162-18dc-4cda-b986-eff3e1a9a6ae"
      },
      "source": [
        "f=10.43\r\n",
        "i=20\r\n",
        "print(\"Here integer value is %s and float value is %s.\" %(f, i))"
      ],
      "execution_count": null,
      "outputs": [
        {
          "output_type": "stream",
          "text": [
            "Here integer value is 10.43 and float value is 20.\n"
          ],
          "name": "stdout"
        }
      ]
    },
    {
      "cell_type": "code",
      "metadata": {
        "colab": {
          "base_uri": "https://localhost:8080/"
        },
        "id": "pf4hELkm2aqU",
        "outputId": "b16819e9-2951-4529-ee3b-5b314e8503e4"
      },
      "source": [
        "f=10.43\r\n",
        "i=20\r\n",
        "print(\"I have\", f, \"tk and my brother has\", i, \"tk\")"
      ],
      "execution_count": null,
      "outputs": [
        {
          "output_type": "stream",
          "text": [
            "I have 10.43 tk and my brother has 20 tk\n"
          ],
          "name": "stdout"
        }
      ]
    },
    {
      "cell_type": "markdown",
      "metadata": {
        "id": "S-HQPglS20cM"
      },
      "source": [
        "#**Conditional statement**"
      ]
    },
    {
      "cell_type": "code",
      "metadata": {
        "colab": {
          "base_uri": "https://localhost:8080/"
        },
        "id": "7L8y2vIU23YL",
        "outputId": "b4a97c92-f1dc-40ac-ca6c-f05f6e31be49"
      },
      "source": [
        "n=20\r\n",
        "if n==10:\r\n",
        "  print(\"I have 10 taka\")\r\n",
        "elif n>10:\r\n",
        "  print(\"I have more than 10 taka\")\r\n",
        "else:\r\n",
        "  print(\"I have less than 10 taka\")\r\n",
        "  "
      ],
      "execution_count": null,
      "outputs": [
        {
          "output_type": "stream",
          "text": [
            "I have more than 10 taka\n"
          ],
          "name": "stdout"
        }
      ]
    },
    {
      "cell_type": "markdown",
      "metadata": {
        "id": "qPXuhjv_3vdb"
      },
      "source": [
        "#**Loops**"
      ]
    },
    {
      "cell_type": "code",
      "metadata": {
        "id": "98tykW7T3xga"
      },
      "source": [
        "myList = [2, 4, 6, 8]"
      ],
      "execution_count": null,
      "outputs": []
    },
    {
      "cell_type": "code",
      "metadata": {
        "colab": {
          "base_uri": "https://localhost:8080/"
        },
        "id": "Dxv9s7iK3-qK",
        "outputId": "07d5339b-a801-45ee-f297-0013bce9a3a7"
      },
      "source": [
        "for ele in myList:\r\n",
        "  print(ele)"
      ],
      "execution_count": null,
      "outputs": [
        {
          "output_type": "stream",
          "text": [
            "2\n",
            "4\n",
            "6\n",
            "8\n"
          ],
          "name": "stdout"
        }
      ]
    },
    {
      "cell_type": "code",
      "metadata": {
        "colab": {
          "base_uri": "https://localhost:8080/"
        },
        "id": "hdKrbCcy4djY",
        "outputId": "53a84c9b-53f8-4c6b-e623-1216b32e5ede"
      },
      "source": [
        "i=1\r\n",
        "while i<=10:\r\n",
        "  print(i)\r\n",
        "  i=i+1"
      ],
      "execution_count": null,
      "outputs": [
        {
          "output_type": "stream",
          "text": [
            "1\n",
            "2\n",
            "3\n",
            "4\n",
            "5\n",
            "6\n",
            "7\n",
            "8\n",
            "9\n",
            "10\n"
          ],
          "name": "stdout"
        }
      ]
    },
    {
      "cell_type": "markdown",
      "metadata": {
        "id": "eUhAoOwq47s6"
      },
      "source": [
        "#**functions in python**"
      ]
    },
    {
      "cell_type": "code",
      "metadata": {
        "id": "Zsof1bzG47L5"
      },
      "source": [
        "def myFunction():\r\n",
        "  print(\"This is inside a method\")"
      ],
      "execution_count": null,
      "outputs": []
    },
    {
      "cell_type": "code",
      "metadata": {
        "colab": {
          "base_uri": "https://localhost:8080/"
        },
        "id": "uujfgbWW5PEC",
        "outputId": "010005d2-7988-4524-bc2b-00b950a7e5a8"
      },
      "source": [
        "myFunction()"
      ],
      "execution_count": null,
      "outputs": [
        {
          "output_type": "stream",
          "text": [
            "This is inside a method\n"
          ],
          "name": "stdout"
        }
      ]
    },
    {
      "cell_type": "code",
      "metadata": {
        "id": "zt2fjei25R-5"
      },
      "source": [
        "def multiply(x, y):\r\n",
        "  z = x*y\r\n",
        "  return z"
      ],
      "execution_count": null,
      "outputs": []
    },
    {
      "cell_type": "code",
      "metadata": {
        "colab": {
          "base_uri": "https://localhost:8080/"
        },
        "id": "4g8BVFD_5cG1",
        "outputId": "06251bc5-157a-47cd-cf04-a58f098b06b6"
      },
      "source": [
        "p=15\r\n",
        "q=20\r\n",
        "multiply(p, q)"
      ],
      "execution_count": null,
      "outputs": [
        {
          "output_type": "execute_result",
          "data": {
            "text/plain": [
              "300"
            ]
          },
          "metadata": {
            "tags": []
          },
          "execution_count": 30
        }
      ]
    },
    {
      "cell_type": "markdown",
      "metadata": {
        "id": "bFh3JGD16GiE"
      },
      "source": [
        "#**built in methods**"
      ]
    },
    {
      "cell_type": "code",
      "metadata": {
        "colab": {
          "base_uri": "https://localhost:8080/"
        },
        "id": "215jcUVV6Kky",
        "outputId": "dc5def7c-88f4-448a-a56c-306af55fdbcf"
      },
      "source": [
        "myList = [2, 4, 6, 8]\r\n",
        "myList.pop()\r\n",
        "\r\n",
        "myList.remove(6)\r\n",
        "print(myList)"
      ],
      "execution_count": null,
      "outputs": [
        {
          "output_type": "stream",
          "text": [
            "[2, 4]\n"
          ],
          "name": "stdout"
        }
      ]
    }
  ]
}